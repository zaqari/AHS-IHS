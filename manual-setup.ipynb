{
 "cells": [
  {
   "cell_type": "markdown",
   "source": [
    "# Manually Setting up the Environment"
   ],
   "metadata": {
    "collapsed": false
   },
   "id": "550c16618186cf11"
  },
  {
   "cell_type": "markdown",
   "source": [
    "## Installing Dependencies"
   ],
   "metadata": {
    "collapsed": false
   },
   "id": "c8a9007c304f7cf2"
  },
  {
   "cell_type": "code",
   "execution_count": null,
   "outputs": [],
   "source": [
    "# data processing and reading\n",
    "!pip install -U pandas\n",
    "!pip install -U numpy"
   ],
   "metadata": {
    "collapsed": false
   },
   "id": "dc74677857c76530"
  },
  {
   "cell_type": "code",
   "execution_count": null,
   "outputs": [],
   "source": [
    "# data collection from reddit\n",
    "!pip install -U praw\n",
    "!pip install -U beautifulsoup"
   ],
   "metadata": {
    "collapsed": false
   },
   "id": "7182b2beec4c3a94"
  },
  {
   "cell_type": "code",
   "execution_count": null,
   "outputs": [],
   "source": [
    "# modeling components\n",
    "!pip install -U torch\n",
    "!pip install -U transformers\n",
    "!pip install -U scipy"
   ],
   "metadata": {
    "collapsed": false
   },
   "id": "6c00aba34768f843"
  },
  {
   "cell_type": "markdown",
   "source": [
    "## Creating environment directories"
   ],
   "metadata": {
    "collapsed": false
   },
   "id": "b5697da798ec2d1e"
  },
  {
   "cell_type": "code",
   "execution_count": null,
   "outputs": [],
   "source": [
    "import os\n",
    "\n",
    "# where data will be stored for reports and analyses\n",
    "os.mkdir('project/data')\n",
    "os.mkdir('project/data')\n",
    "\n",
    "# where raw data will be stored\n",
    "os.mkdir('project/data_aggregate')\n",
    "os.mkdir('project/data_aggregate')\n",
    "os.mkdir('project/data_aggregate/group_names')\n",
    "os.mkdir('project/data_aggregate/group_data')\n",
    "\n",
    "os.mkdir('project/analyses/reporting')"
   ],
   "metadata": {
    "collapsed": false
   },
   "id": "325a0d0312f7d06b"
  }
 ],
 "metadata": {
  "kernelspec": {
   "display_name": "Python 3",
   "language": "python",
   "name": "python3"
  },
  "language_info": {
   "codemirror_mode": {
    "name": "ipython",
    "version": 2
   },
   "file_extension": ".py",
   "mimetype": "text/x-python",
   "name": "python",
   "nbconvert_exporter": "python",
   "pygments_lexer": "ipython2",
   "version": "2.7.6"
  }
 },
 "nbformat": 4,
 "nbformat_minor": 5
}
