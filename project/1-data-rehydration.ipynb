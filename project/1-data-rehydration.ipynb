{
 "cells": [
  {
   "cell_type": "markdown",
   "source": [
    "# Rehydrating data from submission IDs"
   ],
   "metadata": {
    "collapsed": false
   },
   "id": "8c3e096debed0c0c"
  },
  {
   "cell_type": "code",
   "execution_count": null,
   "outputs": [],
   "source": [
    "import pandas as pd\n",
    "import numpy as np\n",
    "from webscrapers.reddit.reddit_bot import RedditBuddy"
   ],
   "metadata": {
    "collapsed": false
   },
   "id": "d7f2971bbe17865e"
  },
  {
   "cell_type": "code",
   "execution_count": null,
   "outputs": [],
   "source": [
    "bot = RedditBuddy()"
   ],
   "metadata": {
    "collapsed": false
   },
   "id": "25a824bef8bf1658"
  },
  {
   "cell_type": "code",
   "execution_count": null,
   "outputs": [],
   "source": [
    "list_of_submisison_ids = pd.read_csv('<path to list of submission ids>')"
   ],
   "metadata": {
    "collapsed": false
   },
   "id": "fad6a0eb4a3dc836"
  },
  {
   "cell_type": "code",
   "execution_count": null,
   "outputs": [],
   "source": [
    "D = pd.DataFrame()\n",
    "\n",
    "D['hate_target'] = [None]\n",
    "D['subreddit'] = [None]"
   ],
   "metadata": {
    "collapsed": false
   },
   "id": "d8bf080cf98a77bf"
  },
  {
   "cell_type": "code",
   "execution_count": null,
   "outputs": [],
   "source": [
    "df = [bot.rehydrate_from_submission_id(submission_id=submission_id) for submission_id in list_of_submisison_ids['submission  id'].values]\n",
    "df = pd.concat(df, ignore_index=True)"
   ],
   "metadata": {
    "collapsed": false
   },
   "id": "33109f7cccbd81f5"
  }
 ],
 "metadata": {
  "kernelspec": {
   "display_name": "Python 3",
   "language": "python",
   "name": "python3"
  },
  "language_info": {
   "codemirror_mode": {
    "name": "ipython",
    "version": 2
   },
   "file_extension": ".py",
   "mimetype": "text/x-python",
   "name": "python",
   "nbconvert_exporter": "python",
   "pygments_lexer": "ipython2",
   "version": "2.7.6"
  }
 },
 "nbformat": 4,
 "nbformat_minor": 5
}
