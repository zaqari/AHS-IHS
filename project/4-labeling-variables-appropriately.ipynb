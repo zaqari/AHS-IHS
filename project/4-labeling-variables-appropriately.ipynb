{
 "cells": [
  {
   "cell_type": "markdown",
   "metadata": {
    "collapsed": true,
    "pycharm": {
     "name": "#%% md\n"
    }
   },
   "source": [
    "# Renaming and cleaning data for LME analysis\n",
    "\n",
    "Not every variable can or should be treated as a categorical variable. So the following will go through and rename variables as needed, as well as sorting some in which we assume there will be a linear, hierarchical effect. It will then save the cleaned data to an output file for LME analysis."
   ]
  },
  {
   "cell_type": "code",
   "execution_count": 1,
   "outputs": [],
   "source": [
    "import pandas as pd\n",
    "import numpy as np\n",
    "from tqdm import tqdm\n",
    "from webscrapers.weaponizedword.api import weaponizedword, query_data\n",
    "import regex as re\n",
    "import os"
   ],
   "metadata": {
    "collapsed": false,
    "ExecuteTime": {
     "end_time": "2024-03-28T14:16:21.954078Z",
     "start_time": "2024-03-28T14:16:21.251571Z"
    }
   }
  },
  {
   "cell_type": "code",
   "execution_count": 2,
   "outputs": [],
   "source": [
    "PATH = 'data_aggregate'\n",
    "TEXTS_DOC = 'islamophobia-texts.tsv'\n",
    "ANALYSIS_DOC = 'Islamophobia.csv'"
   ],
   "metadata": {
    "collapsed": false,
    "ExecuteTime": {
     "end_time": "2024-03-28T14:16:21.978170Z",
     "start_time": "2024-03-28T14:16:21.956024Z"
    }
   }
  },
  {
   "cell_type": "markdown",
   "source": [
    "### Creating Regex and Searching through dredged up comments\n",
    "\n",
    "We'll start by creating a query for our two main targets. We'll then use these queries to saerch the data."
   ],
   "metadata": {
    "collapsed": false
   }
  },
  {
   "cell_type": "code",
   "execution_count": null,
   "outputs": [],
   "source": [
    "targets = {\n",
    "    'Antisemitism': [\n",
    "        ('malignant_meaning', 'jew'), \n",
    "        ('malignant_meaning', 'Jew'),\n",
    "        ('malignant_meaning', 'Judaism'),\n",
    "    ],\n",
    "    'Islamophobia': [\n",
    "        ('malignant_meaning', 'Muslim'), \n",
    "        ('malignant_meaning', 'Islam'), \n",
    "    ]\n",
    "}"
   ],
   "metadata": {
    "collapsed": false,
    "is_executing": true
   }
  },
  {
   "cell_type": "markdown",
   "source": [],
   "metadata": {
    "collapsed": false
   }
  },
  {
   "cell_type": "code",
   "execution_count": null,
   "outputs": [],
   "source": [
    "LOAD = True\n",
    "\n",
    "ww = weaponizedword()\n",
    "\n",
    "if LOAD:\n",
    "    ww.load_search()\n",
    "else:\n",
    "    ww.search(endpoint_name='get_discriminatory')\n",
    "    ww.save_search()"
   ],
   "metadata": {
    "collapsed": false,
    "is_executing": true
   }
  },
  {
   "cell_type": "code",
   "execution_count": null,
   "outputs": [],
   "source": [
    "query_ = dict()\n",
    "for k,v in targets.items():\n",
    "    query = []\n",
    "    for field, search in v:\n",
    "        query += [w.lower() for w in ww.create_query_from_results(field, search).replace('\"', '').split(' OR ')]\n",
    "    if k == 'Antisemitism':\n",
    "        # query += ['soros', 'rothschild', 'jew']\n",
    "        query_[k] = r'({})'.format('|'.join(set(['(?:^|\\s|$){}(?:^|\\s|$)'.format(q) for q in query if q.lower() not in ['khazars']]+['soros', 'rothschild', 'jew', 'khazar', 'israeli'])))\n",
    "    if k == 'Islamophobia':\n",
    "        # query += ['palestin', 'arab', 'muslim']\n",
    "        query_[k] = r'({})'.format('|'.join(set(['(?:^|\\s|$){}(?:^|\\s|$)'.format(q) for q in query]+['palestin', 'arab', 'muslim', 'middle east'])))"
   ],
   "metadata": {
    "collapsed": false
   }
  },
  {
   "cell_type": "code",
   "execution_count": null,
   "outputs": [],
   "source": [
    "# query_"
   ],
   "metadata": {
    "collapsed": false
   }
  },
  {
   "cell_type": "code",
   "execution_count": null,
   "outputs": [],
   "source": [
    "def expert_dictionary_classifier(text):\n",
    "    array = []\n",
    "    for k,v in query_.items():\n",
    "        array+= [[k, len(re.findall(v,text))]]\n",
    "    array = np.array(array,dtype=object)\n",
    "    \n",
    "    if array[:,1].sum() > 0:\n",
    "        return array[:,0][array[:,1].argmax()]\n",
    "    else:\n",
    "        return 'unknown target'"
   ],
   "metadata": {
    "collapsed": false
   }
  },
  {
   "cell_type": "markdown",
   "source": [
    "Let's apply this to data now so we can relabel our utterances in the analysis doc and then clean up the data."
   ],
   "metadata": {
    "collapsed": false
   }
  },
  {
   "cell_type": "code",
   "execution_count": null,
   "outputs": [],
   "source": [
    "dft = pd.read_table(\n",
    "    os.path.join(PATH, TEXTS_DOC),\n",
    "    sep='\\t'\n",
    ")\n",
    "dft.head()"
   ],
   "metadata": {
    "collapsed": false
   }
  },
  {
   "cell_type": "code",
   "execution_count": null,
   "outputs": [],
   "source": [
    "dft['antisemitism_islamophobia'] = dft['body'].apply(lambda x: expert_dictionary_classifier(str(x).lower()))"
   ],
   "metadata": {
    "collapsed": false
   }
  },
  {
   "cell_type": "code",
   "execution_count": null,
   "outputs": [],
   "source": [
    "dft['antisemitism_islamophobia'].value_counts()"
   ],
   "metadata": {
    "collapsed": false
   }
  },
  {
   "cell_type": "code",
   "execution_count": null,
   "outputs": [],
   "source": [
    "dft.to_csv(os.path.join(PATH, TEXTS_DOC), sep='\\t', index=False, encoding='utf-8')"
   ],
   "metadata": {
    "collapsed": false
   }
  },
  {
   "cell_type": "markdown",
   "source": [
    "### Merging with data and cleaning up files"
   ],
   "metadata": {
    "collapsed": false
   }
  },
  {
   "cell_type": "code",
   "execution_count": 3,
   "metadata": {
    "collapsed": false,
    "pycharm": {
     "name": "#%%\n"
    },
    "ExecuteTime": {
     "end_time": "2024-03-28T14:16:37.471012Z",
     "start_time": "2024-03-28T14:16:27.347295Z"
    }
   },
   "outputs": [
    {
     "data": {
      "text/plain": "         x        y         H x_subreddit x_submission_id  \\\n0  i6k35f0  i6n4ud0  0.613424   fingmemes          udysna   \n1  i6k35f0  i6kmu34  0.449100   fingmemes          udysna   \n2  i6k35f0  i6mm6om  0.304221   fingmemes          udysna   \n3  i6k35f0  i6lwzhs  0.566974   fingmemes          udysna   \n4  i6k35f0  iamodu1  0.475101   fingmemes          udysna   \n\n   x_comment_created_at  x_comment_ups        x_user x_parent_id  x_probs  \\\n0          1.651167e+09              7  kkanekii_boi   t3_udysna  0.01426   \n1          1.651167e+09              7  kkanekii_boi   t3_udysna  0.01426   \n2          1.651167e+09              7  kkanekii_boi   t3_udysna  0.01426   \n3          1.651167e+09              7  kkanekii_boi   t3_udysna  0.01426   \n4          1.651167e+09              7  kkanekii_boi   t3_udysna  0.01426   \n\n   ...                    y_user y_parent_id   y_probs  y_hate_target  \\\n0  ...                   sin1996   t3_udysna  0.072050   Islamophobia   \n1  ...  16-18-8-11-11-0-14-8-5-5   t3_udysna  0.000962   Islamophobia   \n2  ...            Finallyback_69   t3_udysna  0.100891   Islamophobia   \n3  ...                akirasup3r   t3_udysna  0.001810   Islamophobia   \n4  ...           mai_nahi_batuga   t3_udysna  0.244305   Islamophobia   \n\n   x_about_Jewish_people x_about_Muslim_people y_about_Jewish_people  \\\n0                      0                     0                     0   \n1                      0                     0                     0   \n2                      0                     0                     0   \n3                      0                     0                     0   \n4                      0                     0                     0   \n\n   y_about_Muslim_people nx  ny  \n0                      0  5  25  \n1                      0  5  16  \n2                      0  5   5  \n3                      0  5  23  \n4                      0  5  12  \n\n[5 rows x 25 columns]",
      "text/html": "<div>\n<style scoped>\n    .dataframe tbody tr th:only-of-type {\n        vertical-align: middle;\n    }\n\n    .dataframe tbody tr th {\n        vertical-align: top;\n    }\n\n    .dataframe thead th {\n        text-align: right;\n    }\n</style>\n<table border=\"1\" class=\"dataframe\">\n  <thead>\n    <tr style=\"text-align: right;\">\n      <th></th>\n      <th>x</th>\n      <th>y</th>\n      <th>H</th>\n      <th>x_subreddit</th>\n      <th>x_submission_id</th>\n      <th>x_comment_created_at</th>\n      <th>x_comment_ups</th>\n      <th>x_user</th>\n      <th>x_parent_id</th>\n      <th>x_probs</th>\n      <th>...</th>\n      <th>y_user</th>\n      <th>y_parent_id</th>\n      <th>y_probs</th>\n      <th>y_hate_target</th>\n      <th>x_about_Jewish_people</th>\n      <th>x_about_Muslim_people</th>\n      <th>y_about_Jewish_people</th>\n      <th>y_about_Muslim_people</th>\n      <th>nx</th>\n      <th>ny</th>\n    </tr>\n  </thead>\n  <tbody>\n    <tr>\n      <th>0</th>\n      <td>i6k35f0</td>\n      <td>i6n4ud0</td>\n      <td>0.613424</td>\n      <td>fingmemes</td>\n      <td>udysna</td>\n      <td>1.651167e+09</td>\n      <td>7</td>\n      <td>kkanekii_boi</td>\n      <td>t3_udysna</td>\n      <td>0.01426</td>\n      <td>...</td>\n      <td>sin1996</td>\n      <td>t3_udysna</td>\n      <td>0.072050</td>\n      <td>Islamophobia</td>\n      <td>0</td>\n      <td>0</td>\n      <td>0</td>\n      <td>0</td>\n      <td>5</td>\n      <td>25</td>\n    </tr>\n    <tr>\n      <th>1</th>\n      <td>i6k35f0</td>\n      <td>i6kmu34</td>\n      <td>0.449100</td>\n      <td>fingmemes</td>\n      <td>udysna</td>\n      <td>1.651167e+09</td>\n      <td>7</td>\n      <td>kkanekii_boi</td>\n      <td>t3_udysna</td>\n      <td>0.01426</td>\n      <td>...</td>\n      <td>16-18-8-11-11-0-14-8-5-5</td>\n      <td>t3_udysna</td>\n      <td>0.000962</td>\n      <td>Islamophobia</td>\n      <td>0</td>\n      <td>0</td>\n      <td>0</td>\n      <td>0</td>\n      <td>5</td>\n      <td>16</td>\n    </tr>\n    <tr>\n      <th>2</th>\n      <td>i6k35f0</td>\n      <td>i6mm6om</td>\n      <td>0.304221</td>\n      <td>fingmemes</td>\n      <td>udysna</td>\n      <td>1.651167e+09</td>\n      <td>7</td>\n      <td>kkanekii_boi</td>\n      <td>t3_udysna</td>\n      <td>0.01426</td>\n      <td>...</td>\n      <td>Finallyback_69</td>\n      <td>t3_udysna</td>\n      <td>0.100891</td>\n      <td>Islamophobia</td>\n      <td>0</td>\n      <td>0</td>\n      <td>0</td>\n      <td>0</td>\n      <td>5</td>\n      <td>5</td>\n    </tr>\n    <tr>\n      <th>3</th>\n      <td>i6k35f0</td>\n      <td>i6lwzhs</td>\n      <td>0.566974</td>\n      <td>fingmemes</td>\n      <td>udysna</td>\n      <td>1.651167e+09</td>\n      <td>7</td>\n      <td>kkanekii_boi</td>\n      <td>t3_udysna</td>\n      <td>0.01426</td>\n      <td>...</td>\n      <td>akirasup3r</td>\n      <td>t3_udysna</td>\n      <td>0.001810</td>\n      <td>Islamophobia</td>\n      <td>0</td>\n      <td>0</td>\n      <td>0</td>\n      <td>0</td>\n      <td>5</td>\n      <td>23</td>\n    </tr>\n    <tr>\n      <th>4</th>\n      <td>i6k35f0</td>\n      <td>iamodu1</td>\n      <td>0.475101</td>\n      <td>fingmemes</td>\n      <td>udysna</td>\n      <td>1.651167e+09</td>\n      <td>7</td>\n      <td>kkanekii_boi</td>\n      <td>t3_udysna</td>\n      <td>0.01426</td>\n      <td>...</td>\n      <td>mai_nahi_batuga</td>\n      <td>t3_udysna</td>\n      <td>0.244305</td>\n      <td>Islamophobia</td>\n      <td>0</td>\n      <td>0</td>\n      <td>0</td>\n      <td>0</td>\n      <td>5</td>\n      <td>12</td>\n    </tr>\n  </tbody>\n</table>\n<p>5 rows × 25 columns</p>\n</div>"
     },
     "execution_count": 3,
     "metadata": {},
     "output_type": "execute_result"
    }
   ],
   "source": [
    "from datetime import datetime as dt\n",
    "import warnings\n",
    "import json\n",
    "\n",
    "df = pd.read_csv(os.path.join(PATH, ANALYSIS_DOC))\n",
    "df = df.loc[df['x_user'] != df['y_user']]\n",
    "df = df.loc[~df['x_user'].isin([np.nan]) & ~df['y_user'].isin([np.nan])]\n",
    "df['nx'] = df['nx'].astype(int)\n",
    "df['ny'] = df['ny'].astype(int)\n",
    "df = df.loc[df['nx'] >= 5]\n",
    "df.head()"
   ]
  },
  {
   "cell_type": "code",
   "execution_count": 4,
   "outputs": [
    {
     "data": {
      "text/plain": "x                         object\ny                         object\nH                        float64\nx_subreddit               object\nx_submission_id           object\nx_comment_created_at     float64\nx_comment_ups              int64\nx_user                    object\nx_parent_id               object\nx_probs                  float64\nx_hate_target             object\ny_subreddit               object\ny_submission_id           object\ny_comment_created_at     float64\ny_comment_ups              int64\ny_user                    object\ny_parent_id               object\ny_probs                  float64\ny_hate_target             object\nx_about_Jewish_people      int64\nx_about_Muslim_people      int64\ny_about_Jewish_people      int64\ny_about_Muslim_people      int64\nnx                         int64\nny                         int64\ndtype: object"
     },
     "execution_count": 4,
     "metadata": {},
     "output_type": "execute_result"
    }
   ],
   "source": [
    "df.dtypes"
   ],
   "metadata": {
    "collapsed": false,
    "ExecuteTime": {
     "end_time": "2024-03-28T14:16:37.475499Z",
     "start_time": "2024-03-28T14:16:37.470487Z"
    }
   }
  },
  {
   "cell_type": "markdown",
   "source": [
    "#### Adding in factors for if the comment mentions one of the target groups"
   ],
   "metadata": {
    "collapsed": false
   }
  },
  {
   "cell_type": "code",
   "execution_count": null,
   "outputs": [],
   "source": [
    "# comment_indicator_dic = {cid:rating for cid, rating in dft[['comment_id', 'antisemitism_islamophobia']].values}\n",
    "# \n",
    "# df['x_about_Jewish_people'] = 0\n",
    "# df['x_about_Muslim_people'] = 0\n",
    "# df['y_about_Jewish_people'] = 0\n",
    "# df['y_about_Muslim_people'] = 0\n",
    "# \n",
    "# warnings.filterwarnings('ignore')\n",
    "# for i in tqdm(df.index):\n",
    "#     x_res, y_res = comment_indicator_dic[df['x'].loc[i]], comment_indicator_dic[df['y'].loc[i]]\n",
    "#     \n",
    "#     if x_res =='Antisemitism':\n",
    "#         df['x_about_Jewish_people'].loc[i] = 1\n",
    "#     elif x_res == 'Islamophobia':\n",
    "#         df['x_about_Muslim_people'].loc[i] = 1\n",
    "#     \n",
    "#     if y_res =='Antisemitism':\n",
    "#         df['y_about_Jewish_people'].loc[i] = 1\n",
    "#     elif y_res == 'Islamophobia':\n",
    "#         df['y_about_Muslim_people'].loc[i] = 1\n",
    "# \n",
    "# warnings.filterwarnings('default')"
   ],
   "metadata": {
    "collapsed": false
   }
  },
  {
   "cell_type": "code",
   "execution_count": null,
   "outputs": [],
   "source": [
    "# df.to_csv(\n",
    "#     os.path.join(PATH, ANALYSIS_DOC),\n",
    "#     index=False, encoding='utf-8'\n",
    "# )"
   ],
   "metadata": {
    "collapsed": false
   }
  },
  {
   "cell_type": "markdown",
   "metadata": {
    "collapsed": false
   },
   "source": [
    "#### Variable set-up. \n",
    "\n",
    "I performed this offline, but the script is below."
   ]
  },
  {
   "cell_type": "markdown",
   "source": [],
   "metadata": {
    "collapsed": false
   }
  },
  {
   "cell_type": "code",
   "execution_count": 5,
   "outputs": [
    {
     "name": "stderr",
     "output_type": "stream",
     "text": [
      "100%|██████████| 2596277/2596277 [00:00<00:00, 2621824.50it/s]\n"
     ]
    },
    {
     "name": "stdout",
     "output_type": "stream",
     "text": [
      "x_user dictionary made 0:00:00.169758\n"
     ]
    },
    {
     "name": "stderr",
     "output_type": "stream",
     "text": [
      "100%|██████████| 2596277/2596277 [00:00<00:00, 4491802.25it/s]\n"
     ]
    },
    {
     "name": "stdout",
     "output_type": "stream",
     "text": [
      "x_user calc'ed 0:00:01.335162\n",
      "y_user dictionary made 0:00:00.168143\n"
     ]
    },
    {
     "name": "stderr",
     "output_type": "stream",
     "text": [
      "100%|██████████| 2596277/2596277 [00:00<00:00, 4068647.00it/s]\n"
     ]
    },
    {
     "name": "stdout",
     "output_type": "stream",
     "text": [
      "y_user calc'ed 0:00:01.431768\n",
      "x dictionary made 0:00:00.256095\n"
     ]
    },
    {
     "name": "stderr",
     "output_type": "stream",
     "text": [
      "100%|██████████| 2596277/2596277 [00:00<00:00, 3937259.90it/s]\n"
     ]
    },
    {
     "name": "stdout",
     "output_type": "stream",
     "text": [
      "x calc'ed 0:00:01.657535\n",
      "x_submission_id dictionary made 0:00:00.148081\n"
     ]
    },
    {
     "name": "stderr",
     "output_type": "stream",
     "text": [
      "100%|██████████| 2596277/2596277 [00:00<00:00, 4641089.96it/s]\n"
     ]
    },
    {
     "name": "stdout",
     "output_type": "stream",
     "text": [
      "x_submission_id calc'ed 0:00:01.279206\n",
      "y_submission_id dictionary made 0:00:00.141095\n"
     ]
    },
    {
     "name": "stderr",
     "output_type": "stream",
     "text": [
      "100%|██████████| 2596277/2596277 [00:00<00:00, 4517118.23it/s]\n"
     ]
    },
    {
     "name": "stdout",
     "output_type": "stream",
     "text": [
      "y_submission_id calc'ed 0:00:01.269714\n"
     ]
    }
   ],
   "source": [
    "# sets up whether the comment x is the parent of the comment y\n",
    "df['y_parent_id_'] = [pid.split('_')[-1] for pid in tqdm(df['y_parent_id'].values)]\n",
    "df['is_parent'] = df['x'] == df['y_parent_id_']\n",
    "del df['y_parent_id_']\n",
    "\n",
    "df['is_sibling'] = df['x_parent_id'] == df['y_parent_id']\n",
    "\n",
    "# Calculate absolute difference in time\n",
    "df['t_delta'] = (df['y_comment_created_at']-df['x_comment_created_at'])\n",
    "df['t_delta_abs'] = df['t_delta'].abs()\n",
    "\n",
    "\n",
    "# sets up a categorical variable for the level of hatefulness exhibited by \n",
    "#   an x-comment\n",
    "# hate_level = {0: '.00-.25', 1: '.25-.50', 2: '.50-.75', 3: '.75-1.0'}\n",
    "# conds = [\n",
    "#     (df['x_probs'] > .25).astype(int).values.reshape(1,-1),\n",
    "#     (df['x_probs'] > .5).astype(int).values.reshape(1,-1),\n",
    "#     (df['x_probs'] > .75).astype(int).values.reshape(1,-1),\n",
    "# ]\n",
    "# conds = np.sum(conds, axis=0)\n",
    "# print(conds.shape)\n",
    "# df['hate_level'] = conds.reshape(-1)\n",
    "# df['hate_level'] = df['hate_level'].replace(hate_level)\n",
    "# \n",
    "# \n",
    "# # binary variable for whether a comment is hate or not\n",
    "# df['x_is_hate'] = (df['x_probs'] >= .8).values.astype(float)\n",
    "# df['y_is_hate'] = (df['y_probs'] >= .8).values.astype(float)\n",
    "\n",
    "\n",
    "# Calculate the average entropy for any token in an utterance.\n",
    "df['avgH'] = df['H']/df['nx']\n",
    "\n",
    "for relabel_col in ['x_user', 'y_user', 'x', 'x_submission_id', 'y_submission_id']:\n",
    "    s = dt.now()\n",
    "    \n",
    "    # sorting the data by averageH\n",
    "    # relabel = df[['avgH', relabel_col]].groupby(relabel_col).aggregate('mean').sort_values(by=['avgH']).index.values\n",
    "    \n",
    "    # no sorting (because random effects shouldn't need it)\n",
    "    relabel = df[relabel_col].unique()\n",
    "    relabel = np.random.choice(relabel, size=(len(relabel)), replace=False)\n",
    "    \n",
    "    dic = {xu: i for i, xu in enumerate(relabel)}\n",
    "    print(relabel_col, \"dictionary made\", dt.now() - s)\n",
    "    \n",
    "    with open(os.path.join(PATH, relabel_col+'-'+ANALYSIS_DOC.replace('.csv', '.json')), 'w') as f:\n",
    "        jso = json.dumps(dic, indent=4)\n",
    "        f.write(jso)\n",
    "    f.close()\n",
    "    \n",
    "    df[relabel_col] = [dic[v] for v in tqdm(df[relabel_col].values)]\n",
    "    print(relabel_col, \"calc'ed\", dt.now() - s)"
   ],
   "metadata": {
    "collapsed": false,
    "ExecuteTime": {
     "end_time": "2024-03-28T14:16:54.347688Z",
     "start_time": "2024-03-28T14:16:45.774540Z"
    }
   }
  },
  {
   "cell_type": "code",
   "execution_count": 6,
   "outputs": [
    {
     "data": {
      "text/plain": "       x        y         H x_subreddit  x_submission_id  \\\n0  13533  i6n4ud0  0.613424   fingmemes              240   \n1  13533  i6kmu34  0.449100   fingmemes              240   \n2  13533  i6mm6om  0.304221   fingmemes              240   \n3  13533  i6lwzhs  0.566974   fingmemes              240   \n4  13533  iamodu1  0.475101   fingmemes              240   \n\n   x_comment_created_at  x_comment_ups  x_user x_parent_id  x_probs  ...  \\\n0          1.651167e+09              7    9934   t3_udysna  0.01426  ...   \n1          1.651167e+09              7    9934   t3_udysna  0.01426  ...   \n2          1.651167e+09              7    9934   t3_udysna  0.01426  ...   \n3          1.651167e+09              7    9934   t3_udysna  0.01426  ...   \n4          1.651167e+09              7    9934   t3_udysna  0.01426  ...   \n\n  x_about_Muslim_people y_about_Jewish_people  y_about_Muslim_people  nx  ny  \\\n0                     0                     0                      0   5  25   \n1                     0                     0                      0   5  16   \n2                     0                     0                      0   5   5   \n3                     0                     0                      0   5  23   \n4                     0                     0                      0   5  12   \n\n   is_parent is_sibling    t_delta t_delta_abs      avgH  \n0      False       True    53712.0     53712.0  0.122685  \n1      False       True     7869.0      7869.0  0.089820  \n2      False       True    39747.0     39747.0  0.060844  \n3      False       True    27780.0     27780.0  0.113395  \n4      False       True  2806914.0   2806914.0  0.095020  \n\n[5 rows x 30 columns]",
      "text/html": "<div>\n<style scoped>\n    .dataframe tbody tr th:only-of-type {\n        vertical-align: middle;\n    }\n\n    .dataframe tbody tr th {\n        vertical-align: top;\n    }\n\n    .dataframe thead th {\n        text-align: right;\n    }\n</style>\n<table border=\"1\" class=\"dataframe\">\n  <thead>\n    <tr style=\"text-align: right;\">\n      <th></th>\n      <th>x</th>\n      <th>y</th>\n      <th>H</th>\n      <th>x_subreddit</th>\n      <th>x_submission_id</th>\n      <th>x_comment_created_at</th>\n      <th>x_comment_ups</th>\n      <th>x_user</th>\n      <th>x_parent_id</th>\n      <th>x_probs</th>\n      <th>...</th>\n      <th>x_about_Muslim_people</th>\n      <th>y_about_Jewish_people</th>\n      <th>y_about_Muslim_people</th>\n      <th>nx</th>\n      <th>ny</th>\n      <th>is_parent</th>\n      <th>is_sibling</th>\n      <th>t_delta</th>\n      <th>t_delta_abs</th>\n      <th>avgH</th>\n    </tr>\n  </thead>\n  <tbody>\n    <tr>\n      <th>0</th>\n      <td>13533</td>\n      <td>i6n4ud0</td>\n      <td>0.613424</td>\n      <td>fingmemes</td>\n      <td>240</td>\n      <td>1.651167e+09</td>\n      <td>7</td>\n      <td>9934</td>\n      <td>t3_udysna</td>\n      <td>0.01426</td>\n      <td>...</td>\n      <td>0</td>\n      <td>0</td>\n      <td>0</td>\n      <td>5</td>\n      <td>25</td>\n      <td>False</td>\n      <td>True</td>\n      <td>53712.0</td>\n      <td>53712.0</td>\n      <td>0.122685</td>\n    </tr>\n    <tr>\n      <th>1</th>\n      <td>13533</td>\n      <td>i6kmu34</td>\n      <td>0.449100</td>\n      <td>fingmemes</td>\n      <td>240</td>\n      <td>1.651167e+09</td>\n      <td>7</td>\n      <td>9934</td>\n      <td>t3_udysna</td>\n      <td>0.01426</td>\n      <td>...</td>\n      <td>0</td>\n      <td>0</td>\n      <td>0</td>\n      <td>5</td>\n      <td>16</td>\n      <td>False</td>\n      <td>True</td>\n      <td>7869.0</td>\n      <td>7869.0</td>\n      <td>0.089820</td>\n    </tr>\n    <tr>\n      <th>2</th>\n      <td>13533</td>\n      <td>i6mm6om</td>\n      <td>0.304221</td>\n      <td>fingmemes</td>\n      <td>240</td>\n      <td>1.651167e+09</td>\n      <td>7</td>\n      <td>9934</td>\n      <td>t3_udysna</td>\n      <td>0.01426</td>\n      <td>...</td>\n      <td>0</td>\n      <td>0</td>\n      <td>0</td>\n      <td>5</td>\n      <td>5</td>\n      <td>False</td>\n      <td>True</td>\n      <td>39747.0</td>\n      <td>39747.0</td>\n      <td>0.060844</td>\n    </tr>\n    <tr>\n      <th>3</th>\n      <td>13533</td>\n      <td>i6lwzhs</td>\n      <td>0.566974</td>\n      <td>fingmemes</td>\n      <td>240</td>\n      <td>1.651167e+09</td>\n      <td>7</td>\n      <td>9934</td>\n      <td>t3_udysna</td>\n      <td>0.01426</td>\n      <td>...</td>\n      <td>0</td>\n      <td>0</td>\n      <td>0</td>\n      <td>5</td>\n      <td>23</td>\n      <td>False</td>\n      <td>True</td>\n      <td>27780.0</td>\n      <td>27780.0</td>\n      <td>0.113395</td>\n    </tr>\n    <tr>\n      <th>4</th>\n      <td>13533</td>\n      <td>iamodu1</td>\n      <td>0.475101</td>\n      <td>fingmemes</td>\n      <td>240</td>\n      <td>1.651167e+09</td>\n      <td>7</td>\n      <td>9934</td>\n      <td>t3_udysna</td>\n      <td>0.01426</td>\n      <td>...</td>\n      <td>0</td>\n      <td>0</td>\n      <td>0</td>\n      <td>5</td>\n      <td>12</td>\n      <td>False</td>\n      <td>True</td>\n      <td>2806914.0</td>\n      <td>2806914.0</td>\n      <td>0.095020</td>\n    </tr>\n  </tbody>\n</table>\n<p>5 rows × 30 columns</p>\n</div>"
     },
     "execution_count": 6,
     "metadata": {},
     "output_type": "execute_result"
    }
   ],
   "source": [
    "df.head()"
   ],
   "metadata": {
    "collapsed": false,
    "ExecuteTime": {
     "end_time": "2024-03-28T14:16:54.406080Z",
     "start_time": "2024-03-28T14:16:54.355702Z"
    }
   }
  },
  {
   "cell_type": "markdown",
   "source": [
    "Setting up comment_delta variable. Note: this is only useful for visualization. Otherwise, we prefer to use the time_delta variable."
   ],
   "metadata": {
    "collapsed": false
   }
  },
  {
   "cell_type": "code",
   "execution_count": 7,
   "metadata": {
    "collapsed": false,
    "ExecuteTime": {
     "end_time": "2024-03-28T14:22:00.276545Z",
     "start_time": "2024-03-28T14:17:49.365588Z"
    }
   },
   "outputs": [
    {
     "name": "stdout",
     "output_type": "stream",
     "text": [
      "[1 0]\n"
     ]
    },
    {
     "name": "stderr",
     "output_type": "stream",
     "text": [
      "100%|██████████| 29914/29914 [04:09<00:00, 119.71it/s]\n"
     ]
    }
   ],
   "source": [
    "import warnings; warnings.filterwarnings('ignore')\n",
    "add_new_comment_delta = True\n",
    "\n",
    "label_by = [\n",
    "    'treat reply different from same thread', \n",
    "    'treat reply same as same thread', \n",
    "    'just ordered', \n",
    "    'comparisons must be within same parent or a reply',\n",
    "][-1]\n",
    "\n",
    "# establishing comment_delta per each x . . . \n",
    "df['is_parent'] = df['is_parent'].replace({True: 0, False: 1})\n",
    "print(df.is_parent.unique())\n",
    "\n",
    "if add_new_comment_delta:\n",
    "    df['comment_delta'] = 0\n",
    "    df['same_thread'] = False\n",
    "    for xid in tqdm(df['x'].unique()):\n",
    "        sub = df.loc[df['x'].isin([xid])]\n",
    "        same_post_sel = sub['x_submission_id'] == sub['y_submission_id']\n",
    "        baseline_sel = sub['x_submission_id'] != sub['y_submission_id']\n",
    "        pre_sel = sub['y_comment_created_at'] < sub['x_comment_created_at'].values[0]\n",
    "        post_sel = sub['y_comment_created_at'] > sub['x_comment_created_at'].values[0]\n",
    "        \n",
    "        if label_by == 'treat reply different from same thread':\n",
    "            ### Assuming separate time dynamics for reply vs. normal\n",
    "            is_parent = sub.loc[(sub['is_parent']==0)].sort_values(by=['y_comment_created_at']).index.values\n",
    "            df['comment_delta'].loc[is_parent] = range(len(is_parent))\n",
    "            \n",
    "            not_parent = sub.loc[(sub['is_parent']==1)].sort_values(by=['y_comment_created_at']).index.values\n",
    "            df['comment_delta'].loc[not_parent] = range(len(not_parent))\n",
    "        \n",
    "        if label_by == 'treat reply same as same thread':\n",
    "            ## Assuming interaction of reply vs. normal\n",
    "            # ct = 0\n",
    "            # for idx in sub[same_post_sel & pre_sel].sort_values(by=['y_comment_created_at'], ascending=False).index:\n",
    "            #     ct-=1\n",
    "            #     df['comment_delta_'].loc[idx] = ct\n",
    "        \n",
    "            ct = 0\n",
    "            for idx in sub[same_post_sel & post_sel].sort_values(by=['is_parent','y_comment_created_at'], ascending=True).index:\n",
    "                ct+=1\n",
    "                df['comment_delta'].loc[idx] = ct\n",
    "        \n",
    "        if label_by == 'just ordered':\n",
    "            values = np.concatenate([sub[['x', 'x_comment_created_at']].values,sub[['y', 'y_comment_created_at']].values], axis=0)\n",
    "            indexes = np.unique(values[:,0].astype(str), return_index=True)[1]\n",
    "            # print(indexes)\n",
    "            values = values[indexes]\n",
    "            values = values[:,0][values[:,0].astype(str).argsort()]\n",
    "            t = {v: i+1 for i,v in enumerate(values)}\n",
    "            \n",
    "            xs = np.array([t[v] for v in sub['x'].values])\n",
    "            ys = np.array([t[v] for v in sub['y'].values])\n",
    "            \n",
    "            df['comment_delta'].loc[sub.index] = ys - xs \n",
    "        \n",
    "        if label_by == 'comparisons must be within same parent or a reply':\n",
    "            ### Assuming separate time dynamics for reply vs. normal\n",
    "            is_parent = sub.loc[(sub['is_parent']==0)].sort_values(by=['y_comment_created_at']).index.values\n",
    "            df['comment_delta'].loc[is_parent] = range(1,len(is_parent)+1)\n",
    "            df['same_thread'].loc[is_parent] = True\n",
    "            \n",
    "            not_parent = sub.loc[ (sub['x_parent_id']==sub['y_parent_id'])].sort_values(by=['y_comment_created_at']).index.values\n",
    "            df['comment_delta'].loc[not_parent] = range(1,len(not_parent)+1)\n",
    "            df['same_thread'].loc[not_parent] = True\n",
    "            \n",
    "            not_same_thread = sub.loc[(sub['is_parent']==1) & (sub['x_parent_id']!=sub['y_parent_id'])].sort_values(by=['y_comment_created_at']).index.values\n",
    "            df['comment_delta'].loc[not_same_thread] = range(1,len(not_same_thread)+1)\n",
    "            \n",
    "    \n",
    "    df['comment_delta_abs'] = df['comment_delta'].abs()\n",
    "    \n",
    "else:\n",
    "    k = pd.read_csv(os.path.join(PATH, ANALYSIS_DOC.replace('.csv', '-cleaned.csv')), usecols=['comment_delta', 'comment_delta_abs'])\n",
    "    df = pd.concat([df,k], axis=1)\n",
    "    del k"
   ]
  },
  {
   "cell_type": "code",
   "execution_count": 8,
   "outputs": [
    {
     "data": {
      "text/plain": "1      58719\n2      45236\n3      40894\n4      38561\n5      37028\n       ...  \n449        1\n450        1\n451        1\n447        1\n452        1\nName: comment_delta, Length: 453, dtype: int64"
     },
     "execution_count": 8,
     "metadata": {},
     "output_type": "execute_result"
    }
   ],
   "source": [
    "df['comment_delta'].value_counts()"
   ],
   "metadata": {
    "collapsed": false,
    "ExecuteTime": {
     "end_time": "2024-03-28T14:22:00.332984Z",
     "start_time": "2024-03-28T14:22:00.303608Z"
    }
   }
  },
  {
   "cell_type": "code",
   "execution_count": 9,
   "outputs": [
    {
     "data": {
      "text/plain": "False    2577120\nTrue       19157\nName: is_parent, dtype: int64"
     },
     "execution_count": 9,
     "metadata": {},
     "output_type": "execute_result"
    }
   ],
   "source": [
    "df['is_parent'] = df['is_parent'].replace({0: True, 1: False})\n",
    "df['is_parent'].value_counts()"
   ],
   "metadata": {
    "collapsed": false,
    "ExecuteTime": {
     "end_time": "2024-03-28T14:22:01.516337Z",
     "start_time": "2024-03-28T14:22:00.311594Z"
    }
   }
  },
  {
   "cell_type": "code",
   "execution_count": 10,
   "outputs": [
    {
     "data": {
      "text/plain": "       x        y         H x_subreddit  x_submission_id  \\\n0  13533  i6n4ud0  0.613424   fingmemes              240   \n1  13533  i6kmu34  0.449100   fingmemes              240   \n2  13533  i6mm6om  0.304221   fingmemes              240   \n3  13533  i6lwzhs  0.566974   fingmemes              240   \n4  13533  iamodu1  0.475101   fingmemes              240   \n\n   x_comment_created_at  x_comment_ups  x_user x_parent_id  x_probs  ... nx  \\\n0          1.651167e+09              7    9934   t3_udysna  0.01426  ...  5   \n1          1.651167e+09              7    9934   t3_udysna  0.01426  ...  5   \n2          1.651167e+09              7    9934   t3_udysna  0.01426  ...  5   \n3          1.651167e+09              7    9934   t3_udysna  0.01426  ...  5   \n4          1.651167e+09              7    9934   t3_udysna  0.01426  ...  5   \n\n   ny  is_parent  is_sibling    t_delta  t_delta_abs      avgH  comment_delta  \\\n0  25      False        True    53712.0      53712.0  0.122685              4   \n1  16      False        True     7869.0       7869.0  0.089820              1   \n2   5      False        True    39747.0      39747.0  0.060844              3   \n3  23      False        True    27780.0      27780.0  0.113395              2   \n4  12      False        True  2806914.0    2806914.0  0.095020              5   \n\n  same_thread  comment_delta_abs  \n0        True                  4  \n1        True                  1  \n2        True                  3  \n3        True                  2  \n4        True                  5  \n\n[5 rows x 33 columns]",
      "text/html": "<div>\n<style scoped>\n    .dataframe tbody tr th:only-of-type {\n        vertical-align: middle;\n    }\n\n    .dataframe tbody tr th {\n        vertical-align: top;\n    }\n\n    .dataframe thead th {\n        text-align: right;\n    }\n</style>\n<table border=\"1\" class=\"dataframe\">\n  <thead>\n    <tr style=\"text-align: right;\">\n      <th></th>\n      <th>x</th>\n      <th>y</th>\n      <th>H</th>\n      <th>x_subreddit</th>\n      <th>x_submission_id</th>\n      <th>x_comment_created_at</th>\n      <th>x_comment_ups</th>\n      <th>x_user</th>\n      <th>x_parent_id</th>\n      <th>x_probs</th>\n      <th>...</th>\n      <th>nx</th>\n      <th>ny</th>\n      <th>is_parent</th>\n      <th>is_sibling</th>\n      <th>t_delta</th>\n      <th>t_delta_abs</th>\n      <th>avgH</th>\n      <th>comment_delta</th>\n      <th>same_thread</th>\n      <th>comment_delta_abs</th>\n    </tr>\n  </thead>\n  <tbody>\n    <tr>\n      <th>0</th>\n      <td>13533</td>\n      <td>i6n4ud0</td>\n      <td>0.613424</td>\n      <td>fingmemes</td>\n      <td>240</td>\n      <td>1.651167e+09</td>\n      <td>7</td>\n      <td>9934</td>\n      <td>t3_udysna</td>\n      <td>0.01426</td>\n      <td>...</td>\n      <td>5</td>\n      <td>25</td>\n      <td>False</td>\n      <td>True</td>\n      <td>53712.0</td>\n      <td>53712.0</td>\n      <td>0.122685</td>\n      <td>4</td>\n      <td>True</td>\n      <td>4</td>\n    </tr>\n    <tr>\n      <th>1</th>\n      <td>13533</td>\n      <td>i6kmu34</td>\n      <td>0.449100</td>\n      <td>fingmemes</td>\n      <td>240</td>\n      <td>1.651167e+09</td>\n      <td>7</td>\n      <td>9934</td>\n      <td>t3_udysna</td>\n      <td>0.01426</td>\n      <td>...</td>\n      <td>5</td>\n      <td>16</td>\n      <td>False</td>\n      <td>True</td>\n      <td>7869.0</td>\n      <td>7869.0</td>\n      <td>0.089820</td>\n      <td>1</td>\n      <td>True</td>\n      <td>1</td>\n    </tr>\n    <tr>\n      <th>2</th>\n      <td>13533</td>\n      <td>i6mm6om</td>\n      <td>0.304221</td>\n      <td>fingmemes</td>\n      <td>240</td>\n      <td>1.651167e+09</td>\n      <td>7</td>\n      <td>9934</td>\n      <td>t3_udysna</td>\n      <td>0.01426</td>\n      <td>...</td>\n      <td>5</td>\n      <td>5</td>\n      <td>False</td>\n      <td>True</td>\n      <td>39747.0</td>\n      <td>39747.0</td>\n      <td>0.060844</td>\n      <td>3</td>\n      <td>True</td>\n      <td>3</td>\n    </tr>\n    <tr>\n      <th>3</th>\n      <td>13533</td>\n      <td>i6lwzhs</td>\n      <td>0.566974</td>\n      <td>fingmemes</td>\n      <td>240</td>\n      <td>1.651167e+09</td>\n      <td>7</td>\n      <td>9934</td>\n      <td>t3_udysna</td>\n      <td>0.01426</td>\n      <td>...</td>\n      <td>5</td>\n      <td>23</td>\n      <td>False</td>\n      <td>True</td>\n      <td>27780.0</td>\n      <td>27780.0</td>\n      <td>0.113395</td>\n      <td>2</td>\n      <td>True</td>\n      <td>2</td>\n    </tr>\n    <tr>\n      <th>4</th>\n      <td>13533</td>\n      <td>iamodu1</td>\n      <td>0.475101</td>\n      <td>fingmemes</td>\n      <td>240</td>\n      <td>1.651167e+09</td>\n      <td>7</td>\n      <td>9934</td>\n      <td>t3_udysna</td>\n      <td>0.01426</td>\n      <td>...</td>\n      <td>5</td>\n      <td>12</td>\n      <td>False</td>\n      <td>True</td>\n      <td>2806914.0</td>\n      <td>2806914.0</td>\n      <td>0.095020</td>\n      <td>5</td>\n      <td>True</td>\n      <td>5</td>\n    </tr>\n  </tbody>\n</table>\n<p>5 rows × 33 columns</p>\n</div>"
     },
     "execution_count": 10,
     "metadata": {},
     "output_type": "execute_result"
    }
   ],
   "source": [
    "df.head()"
   ],
   "metadata": {
    "collapsed": false,
    "ExecuteTime": {
     "end_time": "2024-03-28T14:22:01.534357Z",
     "start_time": "2024-03-28T14:22:01.530581Z"
    }
   }
  },
  {
   "cell_type": "code",
   "execution_count": 11,
   "outputs": [
    {
     "data": {
      "text/plain": "381188"
     },
     "execution_count": 11,
     "metadata": {},
     "output_type": "execute_result"
    }
   ],
   "source": [
    "(df['x_parent_id'] == df['y_parent_id']).sum()"
   ],
   "metadata": {
    "collapsed": false,
    "ExecuteTime": {
     "end_time": "2024-03-28T14:22:01.745826Z",
     "start_time": "2024-03-28T14:22:01.735375Z"
    }
   }
  },
  {
   "cell_type": "markdown",
   "source": [
    "Finish up by saving the document to file."
   ],
   "metadata": {
    "collapsed": false
   }
  },
  {
   "cell_type": "code",
   "execution_count": 12,
   "outputs": [],
   "source": [
    "df.to_csv(\n",
    "    os.path.join(PATH, ANALYSIS_DOC.replace('.csv', '-cleaned.csv')), \n",
    "    index=False, \n",
    "    encoding='utf-8'\n",
    ")"
   ],
   "metadata": {
    "collapsed": false,
    "ExecuteTime": {
     "end_time": "2024-03-28T14:22:35.590289Z",
     "start_time": "2024-03-28T14:22:01.742579Z"
    }
   }
  },
  {
   "cell_type": "markdown",
   "metadata": {
    "collapsed": false
   },
   "source": []
  }
 ],
 "metadata": {
  "kernelspec": {
   "display_name": "Python 3 (ipykernel)",
   "language": "python",
   "name": "python3"
  },
  "language_info": {
   "codemirror_mode": {
    "name": "ipython",
    "version": 3
   },
   "file_extension": ".py",
   "mimetype": "text/x-python",
   "name": "python",
   "nbconvert_exporter": "python",
   "pygments_lexer": "ipython3",
   "version": "3.9.0"
  }
 },
 "nbformat": 4,
 "nbformat_minor": 4
}
